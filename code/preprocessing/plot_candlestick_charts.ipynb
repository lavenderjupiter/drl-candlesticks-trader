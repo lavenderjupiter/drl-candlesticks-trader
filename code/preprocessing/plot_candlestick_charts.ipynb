{
 "cells": [
  {
   "cell_type": "code",
   "execution_count": null,
   "metadata": {},
   "outputs": [],
   "source": [
    "import numpy as np\n",
    "import pandas as pd\n",
    "from PIL import Image\n",
    "from preprocessing.candlestick import PlotChart, get_min_time_unit\n",
    "\n",
    "from tqdm import tqdm\n",
    "import os\n",
    "import datetime\n",
    "import libs.utilities as utilities "
   ]
  },
  {
   "cell_type": "code",
   "execution_count": null,
   "metadata": {},
   "outputs": [],
   "source": [
    "fifteen_minutes_df = pd.read_csv('../../data/15m_ohlcv.csv', index_col=0)  \n",
    "thirty_minutes_df = pd.read_csv('../../data/30m_ohlcv.csv', index_col=0)\n",
    "two_hours_df = pd.read_csv('../../data/2h_ohlcv.csv', index_col=0)\n",
    "\n",
    "fund_rate_df = pd.read_csv('../../data/Funding_Rate.csv', index_col=0)"
   ]
  },
  {
   "cell_type": "code",
   "execution_count": null,
   "metadata": {},
   "outputs": [],
   "source": [
    "def make_path(path):\n",
    "    if not os.path.exists(path):\n",
    "        os.makedirs(path)"
   ]
  },
  {
   "cell_type": "markdown",
   "metadata": {},
   "source": [
    "### plot 3 dataframes in 2 rows"
   ]
  },
  {
   "cell_type": "code",
   "execution_count": null,
   "metadata": {},
   "outputs": [],
   "source": [
    "dataframes_half = {'2h':two_hours_df.copy(), '30m':thirty_minutes_df.copy()}\n",
    "dataframes_all = {'15m':fifteen_minutes_df.copy()}\n",
    "dataframes = {**dataframes_half, **dataframes_all}\n",
    "\n",
    "columns = ['Open', 'High', 'Low', 'Close']\n",
    "periods = [5, 20, 50]\n",
    "MAX_PRICE = 100000\n",
    "\n",
    "for period in periods:\n",
    "    name = 'MA_' + str(period)  \n",
    "    columns.append(name)\n",
    "    for df in dataframes.values():\n",
    "        df[name] = df['Close'].rolling(period).mean()\n",
    "\n",
    "min_unit = get_min_time_unit(list(dataframes_all.keys()))\n",
    "df_columns = dataframes_all[min_unit].columns\n",
    "\n",
    "rolled_column_name = np.roll(df_columns, -1)\n",
    "for df in dataframes.values():\n",
    "    df = df[rolled_column_name]\n",
    "\n",
    "dataframes_all[min_unit]['Scaled'] = dataframes_all[min_unit][['Close']] / MAX_PRICE\n",
    "plot_chart = PlotChart(dataframes_half, dataframes_all, dataframes, fund_rate_df, min_unit, periods, columns)"
   ]
  },
  {
   "cell_type": "code",
   "execution_count": null,
   "metadata": {},
   "outputs": [],
   "source": [
    "def plot_Candel_MA(index, gauge=False, days=1010):\n",
    "    current_index = index\n",
    "    step = utilities.HYPERPARAMS['image_per_day']\n",
    "    path = '../../images/candlesticks/'\n",
    "    make_path(path)\n",
    "\n",
    "    start = 0\n",
    "    end = days * step\n",
    "\n",
    "    for idx in tqdm(range(current_index - start, current_index - end, -1)):\n",
    "        canvas = Image.new('RGB',size=(224,224))    \n",
    "        image, date_time, price = plot_chart.plot_candel_image_df3(canvas, idx, plot_gauge=gauge)\n",
    "        image.save(path + date_time.replace(' ', '_').replace(':', '-') + '_' + price + '.jpg')"
   ]
  },
  {
   "cell_type": "code",
   "execution_count": null,
   "metadata": {},
   "outputs": [],
   "source": [
    "current_index = len(dataframes_all[min_unit].iloc[dataframes_all[min_unit].index < '2022-09-01 00:00:00']) - 1\n",
    "plot_Candel_MA(current_index, gauge=True) #2019-11-25 ~ 2022-08-31"
   ]
  }
 ],
 "metadata": {
  "kernelspec": {
   "display_name": "Python 3.8.5 ('base')",
   "language": "python",
   "name": "python3"
  },
  "language_info": {
   "codemirror_mode": {
    "name": "ipython",
    "version": 3
   },
   "file_extension": ".py",
   "mimetype": "text/x-python",
   "name": "python",
   "nbconvert_exporter": "python",
   "pygments_lexer": "ipython3",
   "version": "3.11.9"
  },
  "orig_nbformat": 4,
  "vscode": {
   "interpreter": {
    "hash": "0b3457ccb0a61345af596b5aae965b7eb6e17950b79e27883d32c1573d3c62b9"
   }
  }
 },
 "nbformat": 4,
 "nbformat_minor": 2
}
